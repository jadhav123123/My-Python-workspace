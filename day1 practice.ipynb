{
{
 "cells": [
  {
   "cell_type": "code",
   "execution_count": 3,
   "id": "44c190e6",
   "metadata": {},
   "outputs": [
    {
     "name": "stdout",
     "output_type": "stream",
     "text": [
      "1915867130448\n",
      "1915867130448\n",
      "<class 'int'>\n",
      "<class 'int'>\n"
     ]
    }
   ],
   "source": [
    "a = 10\n",
    "b = 10\n",
    "print(id(a))\n",
    "print(id(b))\n",
    "print(type(a))\n",
    "print(type(b))"
   ]
  },
  {
   "cell_type": "code",
   "execution_count": 5,
   "id": "75e71f6d",
   "metadata": {},
   "outputs": [
    {
     "name": "stdout",
     "output_type": "stream",
     "text": [
      "<class 'int'>\n"
     ]
    }
   ],
   "source": [
    "a = 20.00\n",
    "print(type(b))"
   ]
  },
  {
   "cell_type": "code",
   "execution_count": 6,
   "id": "cb59cadf",
   "metadata": {},
   "outputs": [
    {
     "name": "stdout",
     "output_type": "stream",
     "text": [
      "<class 'str'>\n"
     ]
    }
   ],
   "source": [
    "lang = \"Python\"\n",
    "print(type(lang))"
   ]
  },
  {
   "cell_type": "code",
   "execution_count": 7,
   "id": "8ebbc13f",
   "metadata": {},
   "outputs": [
    {
     "name": "stdout",
     "output_type": "stream",
     "text": [
      "<class 'bool'>\n"
     ]
    }
   ],
   "source": [
    "monkeypox_result = False\n",
    "print(type(monkeypox_result))"
   ]
  },
  {
   "cell_type": "code",
   "execution_count": 8,
   "id": "ba29ae63",
   "metadata": {},
   "outputs": [
    {
     "name": "stdout",
     "output_type": "stream",
     "text": [
      "20.0\n"
     ]
    }
   ],
   "source": [
    "a_float = float(a)\n",
    "print(a_float)\n",
    "            "
   ]
  },
  {
   "cell_type": "code",
   "execution_count": 10,
   "id": "383e1ce0",
   "metadata": {},
   "outputs": [
    {
     "name": "stdout",
     "output_type": "stream",
     "text": [
      "['False', 'None', 'True', '__peg_parser__', 'and', 'as', 'assert', 'async', 'await', 'break', 'class', 'continue', 'def', 'del', 'elif', 'else', 'except', 'finally', 'for', 'from', 'global', 'if', 'import', 'in', 'is', 'lambda', 'nonlocal', 'not', 'or', 'pass', 'raise', 'return', 'try', 'while', 'with', 'yield']\n"
     ]
    }
   ],
   "source": [
    "#Reserved keywords\n",
    "\n",
    "import keyword as kw\n",
    "print(kw.kwlist)"
   ]
  },
  {
   "cell_type": "code",
   "execution_count": 17,
   "id": "8ad411ac",
   "metadata": {},
   "outputs": [
    {
     "name": "stdout",
     "output_type": "stream",
     "text": [
      "Python 3 has total reserved keyword : 36\n",
      "Python 3 has total reserved keyword :36\n"
     ]
    }
   ],
   "source": [
    "#In python, you can concat similar data types.\n",
    "print(\"Python 3 has total reserved keyword :\", len(kw.kwlist))\n",
    "print(\"Python 3 has total reserved keyword :\" + str(len(kw.kwlist)))"
   ]
  },
  {
   "cell_type": "code",
   "execution_count": 18,
   "id": "32464df6",
   "metadata": {},
   "outputs": [],
   "source": [
    "#rules for variable/identifier certain : single line comment\n",
    "'''multi line comment\n",
    "1]. Variable can never start with numbers\n",
    "2]. from special char, only_(underscore) can be used\n",
    "'''\n",
    "a1_ = 100"
   ]
  },
  {
   "cell_type": "code",
   "execution_count": 19,
   "id": "d235bb83",
   "metadata": {},
   "outputs": [
    {
     "name": "stdout",
     "output_type": "stream",
     "text": [
      "1915867130448\n",
      "1915867130448\n"
     ]
    }
   ],
   "source": [
    "i = 10\n",
    "j = 10\n",
    "print(id(i))\n",
    "print(id(j))"
   ]
  },
  {
   "cell_type": "code",
   "execution_count": 22,
   "id": "cd220278",
   "metadata": {},
   "outputs": [
    {
     "name": "stdout",
     "output_type": "stream",
     "text": [
      "1915872910064\n",
      "1915872910064\n"
     ]
    }
   ],
   "source": [
    "l = \"Python\"\n",
    "l1 = \"Python\"\n",
    "\n",
    "print(id(l))\n",
    "print(id(l1))"
   ]
  },
  {
   "cell_type": "code",
   "execution_count": 23,
   "id": "8a8859da",
   "metadata": {},
   "outputs": [
    {
     "name": "stdout",
     "output_type": "stream",
     "text": [
      "1915981072464\n",
      "1915981071216\n"
     ]
    }
   ],
   "source": [
    "f = 10.0\n",
    "f1 = 10.0\n",
    "print(id(f))\n",
    "print(id(f1))"
   ]
  },
  {
   "cell_type": "code",
   "execution_count": null,
   "id": "4dc8d48b",
   "metadata": {},
   "outputs": [],
   "source": []
  }
 ],
 "metadata": {
  "kernelspec": {
   "display_name": "Python 3 (ipykernel)",
   "language": "python",
   "name": "python3"
  },
  "language_info": {
   "codemirror_mode": {
    "name": "ipython",
    "version": 3
   },
   "file_extension": ".py",
   "mimetype": "text/x-python",
   "name": "python",
   "nbconvert_exporter": "python",
   "pygments_lexer": "ipython3",
   "version": "3.9.12"
  }
 },
 "nbformat": 4,
 "nbformat_minor": 5
}
}